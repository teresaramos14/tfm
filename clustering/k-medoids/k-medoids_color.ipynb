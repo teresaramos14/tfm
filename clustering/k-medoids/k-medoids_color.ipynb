{
 "cells": [
  {
   "cell_type": "code",
   "execution_count": 1,
   "id": "e26e2ea2",
   "metadata": {},
   "outputs": [],
   "source": [
    "import pandas as pd\n",
    "import numpy as np\n",
    "import matplotlib.pyplot as plt\n",
    "from copy import deepcopy\n",
    "import time\n",
    "import os\n",
    "from sklearn.metrics import silhouette_score"
   ]
  },
  {
   "cell_type": "code",
   "execution_count": 2,
   "id": "38f7ea81",
   "metadata": {},
   "outputs": [],
   "source": [
    "\n",
    "folder_path = r\"C:\\Users\\tere1\\OneDrive\\Escritorio\\TFM\\datos_img\"\n",
    "# Cargar las características normalizadas por Z-score\n",
    "df_color_z = pd.read_csv(os.path.join(folder_path, \"features_color_all_zscore.csv\"))\n",
    "# Cargar las características normalizadas por Min-Max\n",
    "df_color_mm = pd.read_csv(os.path.join(folder_path, \"features_color_all_minmax.csv\"))\n"
   ]
  },
  {
   "cell_type": "code",
   "execution_count": 3,
   "id": "46e6d24b",
   "metadata": {},
   "outputs": [],
   "source": [
    "#Se eliminan los datos no numéricos: 'label' y 'filename'\n",
    "df_color_z_cl= df_color_z.drop(columns=['filename', 'label'])"
   ]
  },
  {
   "cell_type": "code",
   "execution_count": 4,
   "id": "5faf1b19",
   "metadata": {},
   "outputs": [],
   "source": [
    "def _get_init_centers(n_clusters, n_samples):\n",
    "    '''Return random unique indices as initial medoid centers'''\n",
    "    return np.random.choice(n_samples, size=n_clusters, replace=False).tolist()\n",
    "\n",
    "def _get_distance(data1, data2):\n",
    "    '''Euclidean distance function'''\n",
    "    return np.sqrt(np.sum((data1 - data2) ** 2))\n",
    "\n",
    "def _get_cost(X, centers_id, dist_func):\n",
    "    '''Return members, per-cluster costs, total cost, and distance matrix'''\n",
    "    dist_mat = np.zeros((len(X), len(centers_id)))\n",
    "    for j, center_id in enumerate(centers_id):\n",
    "        center = X[center_id, :]\n",
    "        for i in range(len(X)):\n",
    "            if i == center_id:\n",
    "                dist_mat[i, j] = 0.\n",
    "            else:\n",
    "                dist_mat[i, j] = dist_func(X[i, :], center)\n",
    "\n",
    "    mask = np.argmin(dist_mat, axis=1)\n",
    "    members = mask.copy()\n",
    "    costs = np.array([np.sum(dist_mat[mask == i, i]) for i in range(len(centers_id))])\n",
    "    return members, costs, np.sum(costs), dist_mat\n",
    "\n",
    "def _kmedoids_run(X, n_clusters, dist_func, max_iter=1000, tol=0.001, verbose=True):\n",
    "    n_samples = X.shape[0]\n",
    "    centers = _get_init_centers(n_clusters, n_samples)\n",
    "    if verbose:\n",
    "        print(\"Initial centers are\", centers)\n",
    "\n",
    "    members, costs, tot_cost, dist_mat = _get_cost(X, centers, dist_func)\n",
    "    cc, swapped = 0, True\n",
    "\n",
    "    while swapped and cc < max_iter:\n",
    "        swapped = False\n",
    "        for i in range(n_samples):\n",
    "            if i not in centers:\n",
    "                for j in range(len(centers)):\n",
    "                    new_centers = deepcopy(centers)\n",
    "                    new_centers[j] = i\n",
    "                    members_, costs_, tot_cost_, dist_mat_ = _get_cost(X, new_centers, dist_func)\n",
    "                    if tot_cost - tot_cost_ > tol:\n",
    "                        members, costs, tot_cost, dist_mat = members_, costs_, tot_cost_, dist_mat_\n",
    "                        centers = new_centers\n",
    "                        swapped = True\n",
    "                        if verbose:\n",
    "                            print(\"Change centers to\", centers)\n",
    "        cc += 1\n",
    "\n",
    "    if verbose:\n",
    "        if not swapped:\n",
    "            print(\"End Searching by no swaps\")\n",
    "        else:\n",
    "            print(\"End Searching by reaching maximum iteration\", max_iter)\n",
    "\n",
    "    return centers, members, costs, tot_cost, dist_mat, cc\n",
    "\n",
    "class KMedoids:\n",
    "    '''\n",
    "    K-Medoids Clustering (PAM) Algorithm\n",
    "\n",
    "    Parameters\n",
    "    ----------\n",
    "    n_clusters : int\n",
    "        Number of clusters\n",
    "    dist_func : callable\n",
    "        Distance function (default: Euclidean)\n",
    "    max_iter : int\n",
    "        Maximum number of iterations\n",
    "    tol : float\n",
    "        Tolerance to stop swapping\n",
    "    '''\n",
    "    def __init__(self, n_clusters, dist_func=_get_distance, max_iter=1000, tol=0.001):\n",
    "        self.n_clusters = n_clusters\n",
    "        self.dist_func = dist_func\n",
    "        self.max_iter = max_iter\n",
    "        self.tol = tol\n",
    "\n",
    "    def fit(self, X, plotit=True, verbose=True):\n",
    "        self.X_train = X\n",
    "        result = _kmedoids_run(\n",
    "            X, self.n_clusters, self.dist_func, self.max_iter, self.tol, verbose\n",
    "        )\n",
    "        self.centers_, self.labels_, self.costs_, self.total_cost_, self.dist_mat_, self.n_iter_ = result\n",
    "\n",
    "        if plotit and X.shape[1] == 2:\n",
    "            self._plot_clusters(X)\n",
    "        elif plotit:\n",
    "            print(\"Plotting only supported for 2D data.\")\n",
    "\n",
    "    def predict(self, X):\n",
    "        if not hasattr(self, \"centers_\"):\n",
    "            raise RuntimeError(\"Model has not been fitted.\")\n",
    "        labels = np.zeros(len(X), dtype=int)\n",
    "        for i, x in enumerate(X):\n",
    "            dists = [self.dist_func(x, self.X_train[c]) for c in self.centers_]\n",
    "            labels[i] = np.argmin(dists)\n",
    "        return labels\n",
    "\n",
    "    def _plot_clusters(self, X):\n",
    "        plt.figure(figsize=(8, 6))\n",
    "        cmap = plt.get_cmap('tab10')\n",
    "        for i in range(self.n_clusters):\n",
    "            cluster_points = X[self.labels_ == i]\n",
    "            plt.scatter(cluster_points[:, 0], cluster_points[:, 1], \n",
    "                        color=cmap(i), alpha=0.5, label=f'Cluster {i}')\n",
    "            plt.scatter(X[self.centers_[i], 0], X[self.centers_[i], 1],\n",
    "                        color=cmap(i), marker='*', s=300, edgecolor='k')\n",
    "        plt.title(\"K-Medoids Clustering\")\n",
    "        plt.legend()\n",
    "        plt.grid(True)\n",
    "        plt.show()"
   ]
  },
  {
   "cell_type": "code",
   "execution_count": 5,
   "id": "2f6c063a",
   "metadata": {},
   "outputs": [
    {
     "name": "stdout",
     "output_type": "stream",
     "text": [
      "Initial centers are [366, 121, 175]\n",
      "Change centers to [366, 121, 1]\n",
      "Change centers to [366, 121, 3]\n",
      "Change centers to [6, 121, 3]\n",
      "Change centers to [11, 121, 3]\n",
      "Change centers to [11, 121, 13]\n",
      "Change centers to [11, 121, 37]\n",
      "Change centers to [11, 121, 64]\n",
      "Change centers to [77, 121, 64]\n",
      "Change centers to [77, 86, 64]\n",
      "Change centers to [77, 86, 87]\n",
      "Change centers to [77, 86, 136]\n",
      "Change centers to [77, 304, 136]\n",
      "Change centers to [77, 304, 405]\n",
      "End Searching by no swaps\n",
      "Medoides: [77, 304, 405]\n",
      "Etiquetas: [0 0 1 2 2 0 0 0 2 1 0 0 1 2 2 0 0 0 1 1 0 1 2 1 1 2 1 1 1 2 0 2 1 1 0 2 2\n",
      " 2 1 2 1 0 1 2 1 0 0 1 0 0 2 2 2 2 2 2 1 1 2 2 2 2 2 2 2 2 2 1 2 0 2 1 0 1\n",
      " 1 0 1 0 0 0 1 1 1 2 1 2 1 2 2 0 2 2 2 2 2 2 1 2 2 2 1 1 1 2 1 2 2 1 2 2 1\n",
      " 1 1 1 1 1 1 1 1 1 1 1 0 0 2 1 2 2 2 0 2 1 2 2 1 2 2 1 2 2 1 2 2 0 2 1 2 2\n",
      " 2 2 1 2 1 2 1 2 1 1 1 1 1 1 1 1 1 1 1 0 1 1 1 0 0 2 0 1 0 2 2 1 0 0 0 0 0\n",
      " 0 0 0 0 0 1 2 1 2 2 2 2 0 0 0 0 2 0 1 2 2 0 0 2 0 2 1 2 2 0 2 2 2 2 2 0 0\n",
      " 0 1 0 0 0 0 0 0 2 2 0 2 2 1 2 2 2 0 1 1 1 1 1 1 2 1 2 1 2 1 1 2 1 1 2 2 1\n",
      " 2 2 1 2 2 0 1 0 0 1 2 1 1 1 2 0 1 1 1 1 1 1 1 1 1 2 1 2 1 1 1 1 1 1 1 1 1\n",
      " 1 1 1 1 1 0 2 1 1 1 1 1 1 0 1 1 1 1 1 0 1 1 1 1 1 1 1 1 1 1 1 1 1 1 1 1 1\n",
      " 1 1 1 1 1 1 1 1 1 2 1 2 2 1 1 2 2 1 1 2 2 2 2 2 2 1 2 2 1 1 2 2 2 2 0 1 2\n",
      " 2 2 1 0 2 1 1 2 2 1 1 2 2 0 0 2 0 2 0 1 0 0 2 1 0 1 2 1 2 2 2 2 2 2 1 2 2\n",
      " 2 0 1 1 2 2 2 2 2 0 2 2 1 1 2 1 1 1 2 2 2 1 0 0 0 0 0 0 0 2 1 0 2 2 1 2 2\n",
      " 2 2 2 2 2 1 2 2 2 2 2 2 2 2 2 2 2 2 2 2 1 1 2 1 1 2 1 2 2 2 1 1 1 2 2 1 2\n",
      " 2 1 2 2 2 2 2 1 0 1 1 1 2 1 1 1 1 1 1 1 1 1 0 1 1 1 0 0 1 0 0 0 0 0 1 0 0\n",
      " 0 0 0 0 0 1 1 1 1 0 2 1 2 0 0 1 0 0 0]\n"
     ]
    }
   ],
   "source": [
    "# Convertir el DataFrame a un arreglo NumPy (asegúrate de que solo contiene variables numéricas)\n",
    "X = df_color_z_cl.values  \n",
    "\n",
    "# Crear modelo con el número de clusters que estimes apropiado\n",
    "model = KMedoids(n_clusters=3)  \n",
    "\n",
    "# Ajustar el modelo\n",
    "model.fit(X, plotit=False)  # Desactiva plotit si los datos no son 2D\n",
    "\n",
    "# Ver resultados\n",
    "print(\"Medoides:\", model.centers_)\n",
    "print(\"Etiquetas:\", model.labels_)"
   ]
  },
  {
   "cell_type": "code",
   "execution_count": 6,
   "id": "396a1213",
   "metadata": {},
   "outputs": [
    {
     "name": "stdout",
     "output_type": "stream",
     "text": [
      "Coeficiente de silueta: 0.3363\n"
     ]
    }
   ],
   "source": [
    "score = silhouette_score(X, model.labels_)\n",
    "print(f\"Coeficiente de silueta: {score:.4f}\")\n"
   ]
  },
  {
   "cell_type": "code",
   "execution_count": 7,
   "id": "b1a62286",
   "metadata": {},
   "outputs": [],
   "source": [
    "#Se eliminan los datos no numéricos: 'label' y 'filename'\n",
    "df_color_mm_cl= df_color_mm.drop(columns=['filename', 'label'])"
   ]
  },
  {
   "cell_type": "code",
   "execution_count": 8,
   "id": "a9e38f23",
   "metadata": {},
   "outputs": [
    {
     "name": "stdout",
     "output_type": "stream",
     "text": [
      "Initial centers are [422, 278, 41, 370]\n",
      "Change centers to [0, 278, 41, 370]\n",
      "Change centers to [1, 278, 41, 370]\n",
      "Change centers to [1, 278, 41, 3]\n",
      "Change centers to [1, 278, 6, 3]\n",
      "Change centers to [13, 278, 6, 3]\n",
      "Change centers to [13, 278, 6, 14]\n",
      "Change centers to [13, 18, 6, 14]\n",
      "Change centers to [22, 18, 6, 14]\n",
      "Change centers to [22, 33, 6, 14]\n",
      "Change centers to [22, 33, 6, 37]\n",
      "Change centers to [22, 33, 41, 37]\n",
      "Change centers to [22, 33, 41, 62]\n",
      "Change centers to [83, 33, 41, 62]\n",
      "Change centers to [83, 86, 41, 62]\n",
      "Change centers to [83, 86, 41, 142]\n",
      "Change centers to [83, 86, 172, 142]\n",
      "Change centers to [83, 287, 172, 142]\n",
      "Change centers to [83, 295, 172, 142]\n",
      "End Searching by no swaps\n",
      "Medoides: [83, 295, 172, 142]\n",
      "Etiquetas: [2 0 3 3 3 2 2 2 3 1 2 2 2 3 3 2 2 2 1 2 2 1 0 1 2 2 3 1 3 0 2 3 1 1 2 3 3\n",
      " 3 3 3 1 2 1 3 1 2 2 1 2 2 3 3 3 3 3 0 1 2 3 0 3 3 3 3 3 0 3 1 0 0 0 1 2 1\n",
      " 1 2 1 2 2 2 1 1 1 0 1 3 1 3 3 2 0 3 3 0 3 3 3 3 3 3 2 3 1 3 3 3 3 1 3 3 1\n",
      " 1 2 1 1 1 2 1 1 1 1 1 0 2 3 1 0 0 0 0 3 1 3 3 2 0 3 1 3 3 3 0 3 0 3 3 0 0\n",
      " 0 0 1 3 1 3 1 3 2 1 1 1 1 1 1 1 1 1 1 2 1 1 1 2 2 0 2 2 2 0 3 2 0 0 2 2 2\n",
      " 2 2 0 2 2 1 0 1 0 0 0 0 0 0 0 2 0 0 1 0 0 0 0 0 0 0 3 0 3 2 3 3 3 0 0 2 0\n",
      " 2 2 0 2 0 2 2 0 3 3 2 0 3 1 3 0 3 2 1 1 3 1 1 1 3 3 3 1 3 1 3 3 1 1 3 3 2\n",
      " 3 3 1 3 2 2 1 2 2 2 3 1 1 1 2 2 3 1 1 1 1 1 1 1 1 3 1 3 1 1 1 1 3 3 3 1 1\n",
      " 1 1 1 1 1 2 3 1 1 1 1 2 1 2 1 1 1 1 3 2 3 1 1 1 1 1 3 2 1 1 1 1 1 1 1 1 1\n",
      " 1 1 1 1 1 3 1 1 1 3 1 3 3 3 1 3 3 1 3 0 3 3 3 3 0 1 3 3 1 1 3 3 3 2 2 3 3\n",
      " 3 0 2 2 3 1 3 3 3 1 1 3 0 2 0 3 2 3 2 2 2 2 3 1 2 1 2 1 3 0 3 3 3 3 3 3 3\n",
      " 3 2 2 1 0 2 0 3 3 2 2 0 3 1 3 3 1 3 3 0 0 1 2 2 2 2 0 2 2 3 1 0 3 2 1 0 0\n",
      " 3 0 3 0 3 1 3 3 3 3 3 3 0 3 3 3 0 3 3 0 3 1 3 1 3 3 3 3 3 0 1 3 3 3 3 3 3\n",
      " 3 1 3 3 0 0 3 2 2 1 1 2 3 1 1 1 1 1 1 2 2 2 2 1 1 2 2 2 2 2 2 2 2 2 1 2 2\n",
      " 0 2 2 2 2 2 1 1 3 2 2 3 3 2 2 3 2 0 2]\n"
     ]
    }
   ],
   "source": [
    "# Convertir el DataFrame a un arreglo NumPy (asegúrate de que solo contiene variables numéricas)\n",
    "X = df_color_mm_cl.values  \n",
    "\n",
    "# Crear modelo con el número de clusters que estimes apropiado\n",
    "model = KMedoids(n_clusters=4)  \n",
    "\n",
    "# Ajustar el modelo\n",
    "model.fit(X, plotit=False)  # Desactiva plotit si los datos no son 2D\n",
    "\n",
    "# Ver resultados\n",
    "print(\"Medoides:\", model.centers_)\n",
    "print(\"Etiquetas:\", model.labels_)"
   ]
  },
  {
   "cell_type": "code",
   "execution_count": 9,
   "id": "08bbf719",
   "metadata": {},
   "outputs": [
    {
     "name": "stdout",
     "output_type": "stream",
     "text": [
      "Coeficiente de silueta: 0.3460\n"
     ]
    }
   ],
   "source": [
    "score = silhouette_score(X, model.labels_)\n",
    "print(f\"Coeficiente de silueta: {score:.4f}\")"
   ]
  }
 ],
 "metadata": {
  "kernelspec": {
   "display_name": "Python 3",
   "language": "python",
   "name": "python3"
  },
  "language_info": {
   "codemirror_mode": {
    "name": "ipython",
    "version": 3
   },
   "file_extension": ".py",
   "mimetype": "text/x-python",
   "name": "python",
   "nbconvert_exporter": "python",
   "pygments_lexer": "ipython3",
   "version": "3.12.0"
  }
 },
 "nbformat": 4,
 "nbformat_minor": 5
}
